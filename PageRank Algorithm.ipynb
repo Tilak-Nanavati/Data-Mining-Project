{
 "cells": [
  {
   "cell_type": "code",
   "execution_count": 3,
   "metadata": {},
   "outputs": [
    {
     "name": "stdout",
     "output_type": "stream",
     "text": [
      "Search Results :\n",
      "****************\n",
      "Link of Web-Page : A\n",
      "Link of Web-Page : E\n",
      "Link of Web-Page : C\n",
      "Link of Web-Page : D\n",
      "Link of Web-Page : B\n"
     ]
    }
   ],
   "source": [
    "import numpy as np\n",
    "from scipy.sparse import csc_matrix\n",
    "\n",
    "def pageRank(G, s = 0.85, maxerr = 0.0001):\n",
    "    \"\"\"\n",
    "    Computes the pagerank for each of the n states\n",
    "    Parameters\n",
    "    ----------\n",
    "    G: matrix representing state transitions\n",
    "       Gij is a binary value representing a transition from state i to j.\n",
    "    s: probability of following a transition. 1-s probability of teleporting\n",
    "       to another state.\n",
    "    maxerr: if the sum of pageranks between iterations is bellow this we will\n",
    "            have converged.\n",
    "    \"\"\"\n",
    "    n = G.shape[0]\n",
    "\n",
    "    # transform G into markov matrix A\n",
    "    A = csc_matrix(G,dtype=np.float)\n",
    "    rsums = np.array(A.sum(1))[:,0]\n",
    "    ri, ci = A.nonzero()\n",
    "    A.data /= rsums[ri]\n",
    "\n",
    "    # bool array of sink states\n",
    "    sink = rsums==0\n",
    "\n",
    "    # Compute pagerank r until we converge\n",
    "    ro, r = np.zeros(n), np.ones(n)\n",
    "    while np.sum(np.abs(r-ro)) > maxerr:\n",
    "        ro = r.copy()\n",
    "        # calculate each pagerank at a time\n",
    "        for i in range(0,n):\n",
    "            # inlinks of state i\n",
    "            Ai = np.array(A[:,i].todense())[:,0]\n",
    "            # account for sink states\n",
    "            Di = sink / float(n)\n",
    "            # account for teleportation to state i\n",
    "            Ei = np.ones(n) / float(n)\n",
    "\n",
    "            r[i] = ro.dot( Ai*s + Di*s + Ei*(1-s) )\n",
    "\n",
    "    # return normalized pagerank\n",
    "    return r/float(sum(r))\n",
    "\n",
    "\n",
    "if __name__=='__main__':\n",
    "    # Example extracted from 'Introduction to Information Retrieval'\n",
    "    \n",
    "    G = np.array([[0,1,1,0,0],\n",
    "                  [1,0,1,1,0],\n",
    "                  [1,0,0,1,1],\n",
    "                  [1,0,0,0,1],\n",
    "                  [0,0,0,0,0]])\n",
    "    \n",
    "    rank = pageRank(G,s=0.85)\n",
    "    dict = {} \n",
    "    pages = ['A','B','C','D','E']\n",
    "    \n",
    "    for i in range(len(rank)):\n",
    "        dict[rank[i]] = pages[i]\n",
    "    \n",
    "    #print(dict)\n",
    "    rank.sort()\n",
    "    \n",
    "    total = len(rank)\n",
    "    \n",
    "    print(\"Search Results :\")\n",
    "    print(\"****************\")\n",
    "    while(total>0):\n",
    "        print(\"Link of Web-Page :\",dict[rank[total-1]])\n",
    "        total -=1\n"
   ]
  },
  {
   "cell_type": "code",
   "execution_count": 6,
   "metadata": {},
   "outputs": [
    {
     "name": "stdout",
     "output_type": "stream",
     "text": [
      "5\n"
     ]
    }
   ],
   "source": [
    "G = np.array([[0,1,1,0,0],\n",
    "                  [1,0,1,1,0],\n",
    "                  [1,0,0,1,1],\n",
    "                  [1,0,0,0,1],\n",
    "                  [0,0,0,0,0]])\n",
    "print(G.shape[0])"
   ]
  },
  {
   "cell_type": "code",
   "execution_count": null,
   "metadata": {},
   "outputs": [],
   "source": []
  }
 ],
 "metadata": {
  "kernelspec": {
   "display_name": "Python 3",
   "language": "python",
   "name": "python3"
  },
  "language_info": {
   "codemirror_mode": {
    "name": "ipython",
    "version": 3
   },
   "file_extension": ".py",
   "mimetype": "text/x-python",
   "name": "python",
   "nbconvert_exporter": "python",
   "pygments_lexer": "ipython3",
   "version": "3.7.1"
  }
 },
 "nbformat": 4,
 "nbformat_minor": 2
}
